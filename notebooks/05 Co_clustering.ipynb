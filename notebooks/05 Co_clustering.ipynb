{
  "nbformat": 4,
  "nbformat_minor": 0,
  "metadata": {
    "colab": {
      "provenance": []
    },
    "kernelspec": {
      "name": "python3",
      "display_name": "Python 3"
    },
    "language_info": {
      "name": "python"
    }
  },
  "cells": [
    {
      "cell_type": "code",
      "execution_count": 1,
      "metadata": {
        "colab": {
          "base_uri": "https://localhost:8080/"
        },
        "id": "7pfghX47fBCa",
        "outputId": "556118ff-cfa2-43ee-da3a-d5c8031a5bfa"
      },
      "outputs": [
        {
          "output_type": "stream",
          "name": "stdout",
          "text": [
            "Found existing installation: numpy 2.0.2\n",
            "Uninstalling numpy-2.0.2:\n",
            "  Would remove:\n",
            "    /usr/local/bin/f2py\n",
            "    /usr/local/bin/numpy-config\n",
            "    /usr/local/lib/python3.11/dist-packages/numpy-2.0.2.dist-info/*\n",
            "    /usr/local/lib/python3.11/dist-packages/numpy.libs/libgfortran-040039e1-0352e75f.so.5.0.0\n",
            "    /usr/local/lib/python3.11/dist-packages/numpy.libs/libquadmath-96973f99-934c22de.so.0.0.0\n",
            "    /usr/local/lib/python3.11/dist-packages/numpy.libs/libscipy_openblas64_-99b71e71.so\n",
            "    /usr/local/lib/python3.11/dist-packages/numpy/*\n",
            "Proceed (Y/n)? y\n",
            "  Successfully uninstalled numpy-2.0.2\n",
            "Collecting numpy==1.26.4\n",
            "  Downloading numpy-1.26.4-cp311-cp311-manylinux_2_17_x86_64.manylinux2014_x86_64.whl.metadata (61 kB)\n",
            "\u001b[2K     \u001b[90m━━━━━━━━━━━━━━━━━━━━━━━━━━━━━━━━━━━━━━━━\u001b[0m \u001b[32m61.0/61.0 kB\u001b[0m \u001b[31m1.6 MB/s\u001b[0m eta \u001b[36m0:00:00\u001b[0m\n",
            "\u001b[?25hDownloading numpy-1.26.4-cp311-cp311-manylinux_2_17_x86_64.manylinux2014_x86_64.whl (18.3 MB)\n",
            "\u001b[2K   \u001b[90m━━━━━━━━━━━━━━━━━━━━━━━━━━━━━━━━━━━━━━━━\u001b[0m \u001b[32m18.3/18.3 MB\u001b[0m \u001b[31m62.5 MB/s\u001b[0m eta \u001b[36m0:00:00\u001b[0m\n",
            "\u001b[?25hInstalling collected packages: numpy\n",
            "\u001b[31mERROR: pip's dependency resolver does not currently take into account all the packages that are installed. This behaviour is the source of the following dependency conflicts.\n",
            "thinc 8.3.6 requires numpy<3.0.0,>=2.0.0, but you have numpy 1.26.4 which is incompatible.\u001b[0m\u001b[31m\n",
            "\u001b[0mSuccessfully installed numpy-1.26.4\n"
          ]
        }
      ],
      "source": [
        "!pip uninstall numpy\n",
        "!pip install numpy==1.26.4"
      ]
    },
    {
      "cell_type": "code",
      "source": [
        "!pip install surprise"
      ],
      "metadata": {
        "colab": {
          "base_uri": "https://localhost:8080/"
        },
        "id": "JrbjPaXAfMtu",
        "outputId": "b9099781-db17-4d83-8e5c-9ff039d4748f"
      },
      "execution_count": 2,
      "outputs": [
        {
          "output_type": "stream",
          "name": "stdout",
          "text": [
            "Collecting surprise\n",
            "  Downloading surprise-0.1-py2.py3-none-any.whl.metadata (327 bytes)\n",
            "Collecting scikit-surprise (from surprise)\n",
            "  Downloading scikit_surprise-1.1.4.tar.gz (154 kB)\n",
            "\u001b[2K     \u001b[90m━━━━━━━━━━━━━━━━━━━━━━━━━━━━━━━━━━━━━━━\u001b[0m \u001b[32m154.4/154.4 kB\u001b[0m \u001b[31m4.0 MB/s\u001b[0m eta \u001b[36m0:00:00\u001b[0m\n",
            "\u001b[?25h  Installing build dependencies ... \u001b[?25l\u001b[?25hdone\n",
            "  Getting requirements to build wheel ... \u001b[?25l\u001b[?25hdone\n",
            "  Preparing metadata (pyproject.toml) ... \u001b[?25l\u001b[?25hdone\n",
            "Requirement already satisfied: joblib>=1.2.0 in /usr/local/lib/python3.11/dist-packages (from scikit-surprise->surprise) (1.5.0)\n",
            "Requirement already satisfied: numpy>=1.19.5 in /usr/local/lib/python3.11/dist-packages (from scikit-surprise->surprise) (1.26.4)\n",
            "Requirement already satisfied: scipy>=1.6.0 in /usr/local/lib/python3.11/dist-packages (from scikit-surprise->surprise) (1.15.3)\n",
            "Downloading surprise-0.1-py2.py3-none-any.whl (1.8 kB)\n",
            "Building wheels for collected packages: scikit-surprise\n",
            "  Building wheel for scikit-surprise (pyproject.toml) ... \u001b[?25l\u001b[?25hdone\n",
            "  Created wheel for scikit-surprise: filename=scikit_surprise-1.1.4-cp311-cp311-linux_x86_64.whl size=2463312 sha256=1eb06fa01455ece9bb453b13e16bec0a49e67df01839813b20360e1e5020e823\n",
            "  Stored in directory: /root/.cache/pip/wheels/2a/8f/6e/7e2899163e2d85d8266daab4aa1cdabec7a6c56f83c015b5af\n",
            "Successfully built scikit-surprise\n",
            "Installing collected packages: scikit-surprise, surprise\n",
            "Successfully installed scikit-surprise-1.1.4 surprise-0.1\n"
          ]
        }
      ]
    },
    {
      "cell_type": "code",
      "source": [
        "from google.colab import drive\n",
        "drive.mount('/content/drive', force_remount=True)"
      ],
      "metadata": {
        "colab": {
          "base_uri": "https://localhost:8080/"
        },
        "id": "7bI4vNfOfQ3d",
        "outputId": "a983c164-6f68-45de-c930-79ba7e1fc5c5"
      },
      "execution_count": 3,
      "outputs": [
        {
          "output_type": "stream",
          "name": "stdout",
          "text": [
            "Mounted at /content/drive\n"
          ]
        }
      ]
    },
    {
      "cell_type": "code",
      "source": [
        "import pandas as pd\n",
        "from collections import defaultdict\n",
        "from surprise import Reader, Dataset, SVD, dump, NMF, accuracy, SlopeOne, KNNBasic, KNNWithMeans, KNNWithZScore, CoClustering\n",
        "from surprise.model_selection import cross_validate, train_test_split, KFold, GridSearchCV\n",
        "# from sklearn.model_selection import train_test_split"
      ],
      "metadata": {
        "id": "TG5sfB7efYMN"
      },
      "execution_count": 1,
      "outputs": []
    },
    {
      "cell_type": "code",
      "source": [
        "def precision_recall_at_k(predictions, k=10, threshold=3.5):\n",
        "    \"\"\"Return precision and recall at k metrics for each user\"\"\"\n",
        "\n",
        "    # First map the predictions to each user.\n",
        "    user_est_true = defaultdict(list)\n",
        "    for uid, _, true_r, est, _ in predictions:\n",
        "        user_est_true[uid].append((est, true_r))\n",
        "\n",
        "    precisions = dict()\n",
        "    recalls = dict()\n",
        "    for uid, user_ratings in user_est_true.items():\n",
        "\n",
        "        # Sort user ratings by estimated value\n",
        "        user_ratings.sort(key=lambda x: x[0], reverse=True)\n",
        "\n",
        "        # Number of relevant items\n",
        "        n_rel = sum((true_r >= threshold) for (_, true_r) in user_ratings)\n",
        "\n",
        "        # Number of recommended items in top k\n",
        "        n_rec_k = sum((est >= threshold) for (est, _) in user_ratings[:k])\n",
        "\n",
        "        # Number of relevant and recommended items in top k\n",
        "        n_rel_and_rec_k = sum(\n",
        "            ((true_r >= threshold) and (est >= threshold))\n",
        "            for (est, true_r) in user_ratings[:k]\n",
        "        )\n",
        "\n",
        "        # Precision@K: Proportion of recommended items that are relevant\n",
        "        # When n_rec_k is 0, Precision is undefined. We here set it to 0.\n",
        "\n",
        "        precisions[uid] = n_rel_and_rec_k / n_rec_k if n_rec_k != 0 else 0\n",
        "\n",
        "        # Recall@K: Proportion of relevant items that are recommended\n",
        "        # When n_rel is 0, Recall is undefined. We here set it to 0.\n",
        "\n",
        "        recalls[uid] = n_rel_and_rec_k / n_rel if n_rel != 0 else 0\n",
        "\n",
        "    return precisions, recalls\n"
      ],
      "metadata": {
        "id": "6Tw9ag-7UlKr"
      },
      "execution_count": 2,
      "outputs": []
    },
    {
      "cell_type": "code",
      "source": [
        "reader = Reader(rating_scale=(1,5))"
      ],
      "metadata": {
        "id": "tm1zkWqsf66m"
      },
      "execution_count": 3,
      "outputs": []
    },
    {
      "cell_type": "code",
      "source": [
        "train=pd.read_csv('/content/drive/MyDrive/Kinopoisk/rating_train_df.csv')"
      ],
      "metadata": {
        "id": "qaCr4O5bnNZn"
      },
      "execution_count": 4,
      "outputs": []
    },
    {
      "cell_type": "code",
      "source": [
        "param_grid = {\"n_epochs\": [10, 20, 40], \"n_cltr_u\": [3, 6, 9], \"n_cltr_i\": [3, 6, 9]}\n",
        "data = Dataset.load_from_df(train[['userId', 'movieId', 'rating']], reader)\n",
        "gs = GridSearchCV(CoClustering, param_grid, measures=[\"rmse\",'mae', \"fcp\"], cv=10, n_jobs=10, joblib_verbose=5)\n",
        "gs.fit(data)"
      ],
      "metadata": {
        "colab": {
          "base_uri": "https://localhost:8080/"
        },
        "id": "X5UyTfG0n223",
        "outputId": "062fc7f9-2e70-46c6-c769-99f539f38647"
      },
      "execution_count": 5,
      "outputs": [
        {
          "output_type": "stream",
          "name": "stderr",
          "text": [
            "[Parallel(n_jobs=10)]: Using backend LokyBackend with 10 concurrent workers.\n",
            "[Parallel(n_jobs=10)]: Done  52 tasks      | elapsed: 15.8min\n",
            "[Parallel(n_jobs=10)]: Done 142 tasks      | elapsed: 53.0min\n",
            "[Parallel(n_jobs=10)]: Done 270 out of 270 | elapsed: 148.5min finished\n"
          ]
        }
      ]
    },
    {
      "cell_type": "code",
      "source": [
        "# best FCP score\n",
        "print(f'Best FCP score is {gs.best_score[\"fcp\"]}')\n",
        "# print(gs.best_score[\"fcp\"])\n",
        "\n",
        "print('Combination of parameters that gave the best FCP score:')\n",
        "print(gs.best_params[\"fcp\"])"
      ],
      "metadata": {
        "colab": {
          "base_uri": "https://localhost:8080/"
        },
        "id": "mLXMddpqMdo5",
        "outputId": "8771fa5e-aa00-4543-fe4d-9118870089a6"
      },
      "execution_count": 6,
      "outputs": [
        {
          "output_type": "stream",
          "name": "stdout",
          "text": [
            "Best FCP score is 0.5484301105503288\n",
            "Combination of parameters that gave the best FCP score:\n",
            "{'n_epochs': 40, 'n_cltr_u': 9, 'n_cltr_i': 3}\n"
          ]
        }
      ]
    },
    {
      "cell_type": "code",
      "source": [
        "# # best RMSE score\n",
        "print(f'Best RMSE score is {gs.best_score[\"rmse\"]}')\n",
        "# print(gs.best_score[\"rmse\"])\n",
        "\n",
        "print('Combination of parameters that gave the best RMSE score:')\n",
        "print(gs.best_params[\"rmse\"])"
      ],
      "metadata": {
        "colab": {
          "base_uri": "https://localhost:8080/"
        },
        "id": "OQLbssheMeT6",
        "outputId": "80ef115e-bbaf-4c10-957d-8b7442c7cb1c"
      },
      "execution_count": 7,
      "outputs": [
        {
          "output_type": "stream",
          "name": "stdout",
          "text": [
            "Best RMSE score is 1.0153735015457561\n",
            "Combination of parameters that gave the best RMSE score:\n",
            "{'n_epochs': 20, 'n_cltr_u': 3, 'n_cltr_i': 3}\n"
          ]
        }
      ]
    },
    {
      "cell_type": "code",
      "source": [
        "# best MAE score\n",
        "print(f'Best MAE score is {gs.best_score[\"mae\"]}')\n",
        "# print(gs.best_score[\"mae\"])\n",
        "\n",
        "print('Combination of parameters that gave the best MAE score:')\n",
        "print(gs.best_params[\"mae\"])"
      ],
      "metadata": {
        "colab": {
          "base_uri": "https://localhost:8080/"
        },
        "id": "y0aR31GeMeq6",
        "outputId": "aaa283dd-db43-495d-c6b9-35a0770d6945"
      },
      "execution_count": 8,
      "outputs": [
        {
          "output_type": "stream",
          "name": "stdout",
          "text": [
            "Best MAE score is 0.7820344463722757\n",
            "Combination of parameters that gave the best MAE score:\n",
            "{'n_epochs': 20, 'n_cltr_u': 3, 'n_cltr_i': 3}\n"
          ]
        }
      ]
    },
    {
      "cell_type": "code",
      "source": [
        "ratings= pd.read_csv('/content/drive/MyDrive/Kinopoisk/rating_df.csv', usecols=['userId', 'movieId', 'rating'])"
      ],
      "metadata": {
        "id": "HUN28oRtf3Q-"
      },
      "execution_count": 4,
      "outputs": []
    },
    {
      "cell_type": "code",
      "source": [
        "data = Dataset.load_from_df(ratings[['userId', 'movieId', 'rating']], reader)"
      ],
      "metadata": {
        "id": "TWKHZ-tXf-C9"
      },
      "execution_count": 5,
      "outputs": []
    },
    {
      "cell_type": "code",
      "source": [
        "del ratings"
      ],
      "metadata": {
        "id": "j6MfxjOsgA5w"
      },
      "execution_count": 11,
      "outputs": []
    },
    {
      "cell_type": "code",
      "source": [
        "del reader"
      ],
      "metadata": {
        "id": "rzI1b71eg0DN"
      },
      "execution_count": 12,
      "outputs": []
    },
    {
      "cell_type": "code",
      "source": [
        "trainset, testset = train_test_split(data, train_size=0.8, test_size=0.2)"
      ],
      "metadata": {
        "id": "evad36yahIDw"
      },
      "execution_count": 6,
      "outputs": []
    },
    {
      "cell_type": "code",
      "source": [
        "del data"
      ],
      "metadata": {
        "id": "KGNJpy4VhjYO"
      },
      "execution_count": 14,
      "outputs": []
    },
    {
      "cell_type": "code",
      "source": [
        "coclustering = CoClustering(n_epochs=20, n_cltr_u = 3, n_cltr_i = 3)\n",
        "coclustering.fit(trainset)\n",
        "del trainset"
      ],
      "metadata": {
        "id": "vsrPkeHggu1S"
      },
      "execution_count": 7,
      "outputs": []
    },
    {
      "cell_type": "code",
      "source": [
        "predictions = coclustering.test(testset)\n"
      ],
      "metadata": {
        "id": "kcVZ8XQZuDnu"
      },
      "execution_count": 8,
      "outputs": []
    },
    {
      "cell_type": "code",
      "source": [
        "print(f\"CoClustering model's RMSE {accuracy.rmse(predictions)}\")\n",
        "print(f\"CoClustering model's MAE {accuracy.mae(predictions)}\")\n",
        "print(f\"CoClustering model's FCP {accuracy.fcp(predictions)}\")"
      ],
      "metadata": {
        "colab": {
          "base_uri": "https://localhost:8080/"
        },
        "id": "iTRTxZA_N4hX",
        "outputId": "de3118af-7acd-4b91-b8a7-ad0fa220ecf8"
      },
      "execution_count": 17,
      "outputs": [
        {
          "output_type": "stream",
          "name": "stdout",
          "text": [
            "RMSE: 0.8958\n",
            "CoClustering model's RMSE 0.8957521614863706\n",
            "MAE:  0.6934\n",
            "CoClustering model's MAE 0.6933679595194947\n",
            "FCP:  0.6700\n",
            "CoClustering model's FCP 0.6700448320512495\n"
          ]
        }
      ]
    },
    {
      "cell_type": "code",
      "source": [
        "precisions, recalls = precision_recall_at_k(predictions, k=10, threshold=3.5)\n",
        "\n",
        "# Precision and recall can then be averaged over all users\n",
        "print(f\"CoClustering model's precision at 10 {sum(prec for prec in precisions.values()) / len(precisions)}\")\n",
        "print(f\"CoClustering model's recall at 10 {sum(rec for rec in recalls.values()) / len(recalls)}\")"
      ],
      "metadata": {
        "colab": {
          "base_uri": "https://localhost:8080/"
        },
        "id": "6SfqqyCnUhSM",
        "outputId": "2d7f6609-6367-4bc2-b84a-39c1f334be45"
      },
      "execution_count": 9,
      "outputs": [
        {
          "output_type": "stream",
          "name": "stdout",
          "text": [
            "CoClustering model's precision at 10 0.7061062204918657\n",
            "CoClustering model's recall at 10 0.5694414635239082\n"
          ]
        }
      ]
    }
  ]
}